{
 "cells": [
  {
   "cell_type": "code",
   "execution_count": null,
   "metadata": {},
   "outputs": [],
   "source": [
    "import numpy as np\n",
    "import matplotlib.pyplot as plt\n",
    "%matplotlib inline\n",
    "from matplotlib import animation\n",
    "import logging\n",
    "import datetime as dt\n",
    "from datetime import datetime, timedelta\n",
    "import pandas as pd\n",
    "import MySQLdb\n",
    "from tqdm import tqdm_notebook"
   ]
  },
  {
   "cell_type": "code",
   "execution_count": null,
   "metadata": {},
   "outputs": [],
   "source": [
    "import matplotlib.pyplot as plt\n",
    "from sklearn.utils.multiclass import unique_labels\n",
    "from sklearn.metrics import confusion_matrix"
   ]
  },
  {
   "cell_type": "code",
   "execution_count": null,
   "metadata": {},
   "outputs": [],
   "source": [
    "class Data_import_from_DB:\n",
    "    \n",
    "    def __init__(self, start_date=None, end_date=None, user_id=None):\n",
    "        self.start_date=start_date\n",
    "        self.end_date=end_date\n",
    "        self.user_id=user_id\n",
    "    \n",
    "    \n",
    "    def get_operational_period(self):\n",
    "        start = datetime.strptime(self.start_date, \"%Y-%m-%d\").date()\n",
    "        end = datetime.strptime(self.end_date, \"%Y-%m-%d\").date()\n",
    "        date_generated = [start + timedelta(days=x) for x in range(0, (end-start).days)]\n",
    "        return date_generated\n",
    "    \n",
    "    def Data_import(self, date_generated, user_id=None):\n",
    "        connection = MySQLdb.connect(host='103.22.220.149', port=13306, user='jaeil', password='yonsei2019!', database = 'Project_Dobrain', use_unicode =True, charset = 'utf8')\n",
    "        cursor = connection.cursor()\n",
    "        SQL =  \"SELECT * FROM Drag_Data_by_Date_JSON WHERE Date in (%s) and id in\"+user_id\n",
    "        in_p=', '.join(map(lambda x: '%s', date_generated))\n",
    "        SQL = SQL % in_p\n",
    "        #print(SQL)\n",
    "        cursor.execute(SQL, date_generated)\n",
    "        data= cursor.fetchall()\n",
    "        data=list(data)\n",
    "        #print(data)\n",
    "        df=pd.read_sql(SQL, connection, params=date_generated)\n",
    "#         df.columns = data.keys()\n",
    "        return df"
   ]
  },
  {
   "cell_type": "code",
   "execution_count": null,
   "metadata": {},
   "outputs": [],
   "source": [
    "user_id_list = pd.read_csv('whole_demo_170.csv')\n",
    "user_id_list = str(tuple(user_id_list.User_id.values))"
   ]
  },
  {
   "cell_type": "code",
   "execution_count": null,
   "metadata": {},
   "outputs": [],
   "source": [
    "connector = Data_import_from_DB(start_date = '2019-05-01', end_date='2019-11-30')\n",
    "date=connector.get_operational_period()\n",
    "#user_id_list = \"('C2B242B6-C498-49D9-B55C-7871397360E0', 'C058EFD6-1E4D-49AE-A259-6367B4BD2AA6')\"\n",
    "result_hospital=connector.Data_import(date, user_id_list)\n",
    "result_hospital.head()"
   ]
  },
  {
   "cell_type": "code",
   "execution_count": null,
   "metadata": {},
   "outputs": [],
   "source": [
    "final=[]\n",
    "for i in tqdm_notebook(range(len(result_hospital))):\n",
    "    output = result_hospital['CreationDatetime_M'][i].split()[0]\n",
    "    try:\n",
    "        tmp = result_hospital['CreationDatetime_M'][i].split()[1]\n",
    "    except:\n",
    "        print(result_hospital['CreationDatetime_M'][i], i)\n",
    "    tmp=tmp.replace('.',':')\n",
    "    final.append(output+' '+tmp)\n",
    "result_hospital['CreationDatetime_final']=final"
   ]
  },
  {
   "cell_type": "markdown",
   "metadata": {},
   "source": [
    "# 처음 플레이"
   ]
  },
  {
   "cell_type": "code",
   "execution_count": null,
   "metadata": {},
   "outputs": [],
   "source": [
    "def first_play(result_test, level_ = None):\n",
    "    from datetime import datetime\n",
    "    result_test=result_test.sort_values(['CreationDatetime_final','ID'], ascending=[True, True])\n",
    "    result_test['Game_num']=result_test['Index_'].map(str)+'_'+result_test['Index_X'].map(str)\n",
    "    #result_test = result_test[result_test['level']==level_]\n",
    "    data_dic=dict(tuple(result_test.groupby('ID')))\n",
    "    print('ID의 개수 : ', len(data_dic.keys()))\n",
    "    first_play_data = pd.DataFrame()    \n",
    "    for m in tqdm_notebook(data_dic.keys()): # ID 하나 가져오기\n",
    "        data_dic2=dict(tuple(data_dic[m].groupby('Game_num')))\n",
    "        for i in data_dic2.keys(): # 게임 번호 하나 가져오기\n",
    "            data_dic3=dict(tuple(data_dic2[i].groupby('CreationDatetime')))\n",
    "            j = min(data_dic3.keys()) #가장 이른 날짜 가져오기\n",
    "            first_play_data = first_play_data.append(data_dic3[j], ignore_index = True)\n",
    "    return first_play_data"
   ]
  },
  {
   "cell_type": "code",
   "execution_count": null,
   "metadata": {},
   "outputs": [],
   "source": [
    "result_first = first_play(result_hospital)"
   ]
  },
  {
   "cell_type": "code",
   "execution_count": null,
   "metadata": {},
   "outputs": [],
   "source": [
    "result_first.to_csv('whole_demo_170_first_play_1213.csv')"
   ]
  },
  {
   "cell_type": "markdown",
   "metadata": {},
   "source": [
    "# 라인 수"
   ]
  },
  {
   "cell_type": "code",
   "execution_count": null,
   "metadata": {
    "scrolled": true
   },
   "outputs": [],
   "source": [
    "result_first = pd.read_csv('whole_demo_170_first_play_1213.csv')"
   ]
  },
  {
   "cell_type": "code",
   "execution_count": null,
   "metadata": {},
   "outputs": [],
   "source": [
    "result_first = result_first.drop(columns={'Unnamed: 0'}, axis=1)"
   ]
  },
  {
   "cell_type": "code",
   "execution_count": null,
   "metadata": {},
   "outputs": [],
   "source": [
    "result_first = result_first.drop_duplicates()"
   ]
  },
  {
   "cell_type": "code",
   "execution_count": null,
   "metadata": {},
   "outputs": [],
   "source": [
    "result_first['Game_num']=result_first['Index_'].map(str)+'_'+result_first['Index_X'].map(str)"
   ]
  },
  {
   "cell_type": "code",
   "execution_count": null,
   "metadata": {},
   "outputs": [],
   "source": [
    "test1 = result_first[['ID', 'Index_', 'Index_X']].drop_duplicates()"
   ]
  },
  {
   "cell_type": "code",
   "execution_count": null,
   "metadata": {},
   "outputs": [],
   "source": [
    "result_first = result_first.drop(columns={'Index_Y'})"
   ]
  },
  {
   "cell_type": "code",
   "execution_count": null,
   "metadata": {},
   "outputs": [],
   "source": [
    "result_first = result_first.drop_duplicates()"
   ]
  },
  {
   "cell_type": "code",
   "execution_count": null,
   "metadata": {},
   "outputs": [],
   "source": [
    "result_line = result_first.pivot_table(index=('ID', 'Index_', 'Index_X'), aggfunc='max', values='GameGrivenIndex')"
   ]
  },
  {
   "cell_type": "code",
   "execution_count": null,
   "metadata": {},
   "outputs": [],
   "source": [
    "result_line.reset_index(inplace=True)"
   ]
  },
  {
   "cell_type": "code",
   "execution_count": null,
   "metadata": {},
   "outputs": [],
   "source": [
    "result_line['GameGrivenIndex'] = pd.to_numeric(result_line['GameGrivenIndex'])"
   ]
  },
  {
   "cell_type": "code",
   "execution_count": null,
   "metadata": {},
   "outputs": [],
   "source": [
    "result_line_cnt = result_line.pivot_table(index=('ID','Index_', 'Index_X'), aggfunc='mean', values='GameGrivenIndex')"
   ]
  },
  {
   "cell_type": "markdown",
   "metadata": {},
   "source": [
    "# Fly time"
   ]
  },
  {
   "cell_type": "code",
   "execution_count": null,
   "metadata": {},
   "outputs": [],
   "source": [
    "final=[]\n",
    "for i in tqdm_notebook(range(len(result_first))):\n",
    "    output = result_first['CreationDatetime_final'].iloc[i].split()[0]\n",
    "    try:\n",
    "        tmp = result_first['CreationDatetime_final'].iloc[i].split()[1]\n",
    "    except:\n",
    "        print(result_first['CreationDatetime_final'].iloc[i], i)\n",
    "    tmp=tmp.replace('-',':')\n",
    "    final.append(output+' '+tmp)\n",
    "result_first['CreationDatetime_final']=final"
   ]
  },
  {
   "cell_type": "code",
   "execution_count": null,
   "metadata": {},
   "outputs": [],
   "source": [
    "def first_image_flytime(result_test, level_=None):\n",
    "    from datetime import datetime\n",
    "    result_test=result_test.sort_values(['CreationDatetime_final','GameGrivenIndex','ID'], ascending=[True, True,True])\n",
    "    result_test['Game_num']=result_test['Index_'].map(str)+'_'+result_test['Index_X'].map(str)\n",
    "    result_test = result_test[result_test['Level']==level_]\n",
    "    data_dic=dict(tuple(result_test.groupby('ID')))\n",
    "    print('ID의 개수 : ', len(data_dic.keys()))\n",
    "    ID_list, Game_num_list, level_list, Creation_Date_list, flytime_list = [] ,[], [] ,[], []\n",
    "    Index_list, Index_X_list = [], []\n",
    "    for m in tqdm_notebook(data_dic.keys()): # ID 하나 가져오기\n",
    "        data_dic2=dict(tuple(data_dic[m].groupby('Game_num')))\n",
    "        for i in data_dic2.keys(): # 게임 번호 하나 가져오기\n",
    "            for k in range(len(data_dic2[i]['CreationDatetime'])-1):\n",
    " \n",
    "                if data_dic2[i]['GameGrivenIndex'].iloc[k] == data_dic2[i]['GameGrivenIndex'].iloc[k+1]:\n",
    "                    #continue\n",
    "                    flytime = 0\n",
    "                    ID_list.append(m)\n",
    "                    Game_num_list.append(i)\n",
    "                    Index_list.append(data_dic2[i]['Index_'].iloc[k])\n",
    "                    Index_X_list.append(data_dic2[i]['Index_X'].iloc[k])\n",
    "                    level_list.append(data_dic2[i]['Level'].iloc[k])\n",
    "                    Creation_Date_list.append(data_dic2[i]['CreationDatetime_final'].iloc[k])\n",
    "                    flytime_list.append(flytime)\n",
    "                else:\n",
    "                    \n",
    "                    if len(data_dic2[i]['CreationDatetime_final'].iloc[k])<20:\n",
    "                        data_dic2[i]['CreationDatetime_final'].iloc[k] = data_dic2[i]['CreationDatetime_final'].iloc[k] +':000'\n",
    "                    if len(data_dic2[i]['CreationDatetime_final'].iloc[k+1])<20:\n",
    "                        data_dic2[i]['CreationDatetime_final'].iloc[k+1] =data_dic2[i]['CreationDatetime_final'].iloc[k+1] +':000'\n",
    "                    #try:\n",
    "                    start = datetime.strptime(data_dic2[i]['CreationDatetime_final'].iloc[k+1], '%Y-%m-%d %H:%M:%S:%f')\n",
    "                    end = datetime.strptime(data_dic2[i]['CreationDatetime_final'].iloc[k], '%Y-%m-%d %H:%M:%S:%f')\n",
    "                    #except:\n",
    "                        #start=0\n",
    "                        #nd=0\n",
    "                    #    continue\n",
    "                    #    start = datetime.strptime(data_dic2[i]['CreationDatetime_final'].iloc[k+1], '%Y-%m-%d %H:%M:%S:')\n",
    "                    #    end = datetime.strptime(data_dic2[i]['CreationDatetime_final'].iloc[k], '%Y-%m-%d %H:%M:%S:')\n",
    "                    flytime = start - end\n",
    "                    ID_list.append(m)\n",
    "                    Game_num_list.append(i)\n",
    "                    Index_list.append(data_dic2[i]['Index_'].iloc[k])\n",
    "                    Index_X_list.append(data_dic2[i]['Index_X'].iloc[k])\n",
    "                    level_list.append(data_dic2[i]['Level'].iloc[k])\n",
    "                    Creation_Date_list.append(data_dic2[i]['CreationDatetime_final'].iloc[k])\n",
    "                    flytime_list.append(flytime)\n",
    "    flytime_df = pd.DataFrame(list(zip(ID_list, Index_list,Index_X_list, level_list, Creation_Date_list, flytime_list)),\n",
    "                                  columns=['ID','Index_','Index_X', 'Level', 'CreationDatetime_final', 'Flytime'])\n",
    "    return flytime_df"
   ]
  },
  {
   "cell_type": "code",
   "execution_count": null,
   "metadata": {},
   "outputs": [],
   "source": [
    "result_first_flytime = first_image_flytime(result_first, level_='A')"
   ]
  },
  {
   "cell_type": "code",
   "execution_count": null,
   "metadata": {},
   "outputs": [],
   "source": [
    "flytime_cal = []\n",
    "for i in tqdm_notebook(range(len(result_first_flytime['Flytime']))):\n",
    "    try:\n",
    "        flytime_cal.append(timedelta.total_seconds(result_first_flytime['Flytime'][i]))\n",
    "    except TypeError:\n",
    "        flytime_cal.append(0)\n",
    "result_first_flytime['Flytime_cal']=flytime_cal"
   ]
  },
  {
   "cell_type": "code",
   "execution_count": null,
   "metadata": {},
   "outputs": [],
   "source": [
    "result_first_flytime.reset_index(inplace=True) "
   ]
  },
  {
   "cell_type": "code",
   "execution_count": null,
   "metadata": {},
   "outputs": [],
   "source": [
    "result_first_flytime['Game_num']=result_first_flytime['Index_'].map(str)+'_'+result_first_flytime['Index_X'].map(str)"
   ]
  },
  {
   "cell_type": "markdown",
   "metadata": {},
   "source": [
    "# Line length"
   ]
  },
  {
   "cell_type": "code",
   "execution_count": null,
   "metadata": {},
   "outputs": [],
   "source": [
    "def Line_Length(result_test, level_ = None):\n",
    "    from datetime import datetime\n",
    "    result_test=result_test.sort_values(['CreationDatetime_final','ID'], ascending=[True, True])\n",
    "    result_test['Game_num']=result_test['Index_'].map(str)+'_'+result_test['Index_X'].map(str)\n",
    "    result_test = result_test[result_test['Level']==level_]\n",
    "    data_dic=dict(tuple(result_test.groupby('ID')))\n",
    "    print('ID의 개수 : ', len(data_dic.keys()))\n",
    "    ID_list, Game_num_list, level_list, Creation_Date_list, line_length_list = [] ,[], [] ,[], []\n",
    "    Index_list, Index_X_list = [], []\n",
    "    for m in tqdm_notebook(data_dic.keys()): # ID 하나 가져오기\n",
    "        data_dic2=dict(tuple(data_dic[m].groupby('Game_num')))\n",
    "        for i in data_dic2.keys(): # 게임 번호 하나 가져오기\n",
    "            for k in range(len(data_dic2[i]['PosX'])-1):\n",
    "  #              try:\n",
    "                line_length_list.append(np.sqrt((data_dic2[i]['PosX'].iloc[k] - data_dic2[i]['PosX'].iloc[k+1])**2 + (data_dic2[i]['PosY'].iloc[k] - data_dic2[i]['PosY'].iloc[k+1])**2))\n",
    "                ID_list.append(m)\n",
    "                Game_num_list.append(i)\n",
    "                Index_list.append(data_dic2[i]['Index_'].iloc[k])\n",
    "                Index_X_list.append(data_dic2[i]['Index_X'].iloc[k])\n",
    "                level_list.append(data_dic2[i]['Level'].iloc[k])\n",
    "                Creation_Date_list.append(data_dic2[i]['CreationDatetime'].iloc[k])\n",
    "#                except:\n",
    " #                   continue\n",
    "    linelength_df = pd.DataFrame(list(zip(ID_list, Index_list,Index_X_list, level_list, Creation_Date_list, line_length_list)),\n",
    "                                  columns=['ID','Index_','Index_X', 'Level', 'Creation Date', 'Line_Length'])\n",
    "    return linelength_df"
   ]
  },
  {
   "cell_type": "code",
   "execution_count": null,
   "metadata": {},
   "outputs": [],
   "source": [
    "result_first_linelength = Line_Length(result_first, level_ = 'A')"
   ]
  },
  {
   "cell_type": "code",
   "execution_count": null,
   "metadata": {},
   "outputs": [],
   "source": [
    "result_first_linelength['Game_num']=result_first_linelength['Index_'].map(str)+'_'+result_first_linelength['Index_X'].map(str)"
   ]
  },
  {
   "cell_type": "markdown",
   "metadata": {},
   "source": [
    "# Hight, Width 통계량"
   ]
  },
  {
   "cell_type": "code",
   "execution_count": null,
   "metadata": {},
   "outputs": [],
   "source": [
    "result_first['PosX_ratio'] = result_first['PosX']/result_first['ScreenWidth']\n",
    "result_first['PosY_ratio'] = result_first['PosY']/result_first['ScreenHeight']"
   ]
  },
  {
   "cell_type": "code",
   "execution_count": null,
   "metadata": {},
   "outputs": [],
   "source": [
    "def hight_width_cal(result_test, level_ = None):\n",
    "    from datetime import datetime\n",
    "    result_test=result_test.sort_values(['CreationDatetime_final','ID'], ascending=[True, True])\n",
    "    result_test['Game_num']=result_test['Index_'].map(str)+'_'+result_test['Index_X'].map(str)\n",
    "    result_test = result_test[result_test['Level']==level_]\n",
    "    data_dic=dict(tuple(result_test.groupby('ID')))\n",
    "    print('ID의 개수 : ', len(data_dic.keys()))\n",
    "    ID_list, Game_num_list, level_list, Creation_Date_list, hmax_list, hmean_list, hstd_list = [] ,[], [] ,[], [], [], []\n",
    "    wmax_list, wmean_list, wstd_list = [] ,[], []\n",
    "    Index_list, Index_X_list = [], []\n",
    "    for m in tqdm_notebook(data_dic.keys()): # ID 하나 가져오기\n",
    "        data_dic2=dict(tuple(data_dic[m].groupby('Game_num')))\n",
    "        for i in data_dic2.keys(): # 게임 번호 하나 가져오기\n",
    "            data_dic3=dict(tuple(data_dic2[i].groupby('CreationDatetime')))\n",
    "            for k in data_dic3.keys():\n",
    "                hmax_list.append(data_dic3[k]['PosY_ratio'].max())\n",
    "                hmean_list.append(data_dic3[k]['PosY_ratio'].mean())\n",
    "                hstd_list.append(data_dic3[k]['PosY_ratio'].std())\n",
    "                wmax_list.append(data_dic3[k]['PosX_ratio'].max())\n",
    "                wmean_list.append(data_dic3[k]['PosX_ratio'].mean())\n",
    "                wstd_list.append(data_dic3[k]['PosX_ratio'].std())\n",
    "                Index_list.append(data_dic3[k]['Index_'].iloc[0])\n",
    "                Index_X_list.append(data_dic3[k]['Index_X'].iloc[0])\n",
    "                ID_list.append(m)\n",
    "                Game_num_list.append(i)\n",
    "                level_list.append(data_dic3[k]['Level'].iloc[0])\n",
    "                Creation_Date_list.append(data_dic3[k]['CreationDatetime'].iloc[0])\n",
    "    height_width_df = pd.DataFrame(list(zip(ID_list,level_list, Index_list,Index_X_list, Creation_Date_list,\n",
    "                                       hmax_list, hmean_list, hstd_list,wmax_list, wmean_list, wstd_list)),\n",
    "                                  columns=['ID', 'Level','Index_', 'Index_X','Creation_Date', 'Height_Max', 'Height_Mean',\n",
    "                                          'Height_Std', 'Width_Max', 'Width_Mean', 'Width_Std'])\n",
    "    return height_width_df"
   ]
  },
  {
   "cell_type": "code",
   "execution_count": null,
   "metadata": {},
   "outputs": [],
   "source": [
    "height_width_result_first = hight_width_cal(result_first, level_ = 'A')"
   ]
  },
  {
   "cell_type": "markdown",
   "metadata": {},
   "source": [
    "# 게임 플레이 시간"
   ]
  },
  {
   "cell_type": "code",
   "execution_count": null,
   "metadata": {},
   "outputs": [],
   "source": [
    "def play_time(result_test, level_ = None):\n",
    "    from datetime import datetime\n",
    "    result_test=result_test.sort_values(['CreationDatetime_final','ID'], ascending=[True, True])\n",
    "    result_test['Game_num']=result_test['Index_'].map(str)+'_'+result_test['Index_X'].map(str)\n",
    "    result_test = result_test[result_test['Level']==level_]\n",
    "    data_dic=dict(tuple(result_test.groupby('ID')))\n",
    "    print('ID의 개수 : ', len(data_dic.keys()))\n",
    "    ID_list, Game_num_list, level_list, Creation_Date_list, play_time = [] ,[], [] ,[], []\n",
    "    Index_list, Index_X_list = [], []\n",
    "    for m in tqdm_notebook(data_dic.keys()): # ID 하나 가져오기\n",
    "        data_dic2=dict(tuple(data_dic[m].groupby('Game_num')))\n",
    "        for i in data_dic2.keys(): # 게임 번호 하나 가져오기\n",
    "            data_dic3=dict(tuple(data_dic2[i].groupby('CreationDatetime')))\n",
    "            for k in data_dic3.keys():\n",
    "                try:\n",
    "                    start = data_dic3[k]['CreationDatetime_final'].min()\n",
    "                    end = data_dic3[k]['CreationDatetime_final'].max()\n",
    "                    start = datetime.strptime(start, '%Y-%m-%d %H:%M:%S:%f')\n",
    "                    end = datetime.strptime(end, '%Y-%m-%d %H:%M:%S:%f')\n",
    "                    play_time_value = end - start\n",
    "                    ID_list.append(m)\n",
    "                    Game_num_list.append(i)\n",
    "                    level_list.append(data_dic3[k]['Level'].iloc[0])\n",
    "                    Index_list.append(data_dic3[k]['Index_'].iloc[0])\n",
    "                    Index_X_list.append(data_dic3[k]['Index_X'].iloc[0])\n",
    "                    Creation_Date_list.append(k)\n",
    "                    play_time.append(play_time_value)\n",
    "                except:\n",
    "                    pass\n",
    "    play_time = pd.to_timedelta(play_time)\n",
    "    play_time_df = pd.DataFrame(list(zip(ID_list, Game_num_list, Index_list,Index_X_list, level_list, Creation_Date_list,\n",
    "                                       play_time)),\n",
    "                                  columns=['ID','Game_num','Index_','Index_X', 'Level', 'Creation_Date', 'Play_time'])\n",
    "    return play_time_df\n",
    "                "
   ]
  },
  {
   "cell_type": "code",
   "execution_count": null,
   "metadata": {},
   "outputs": [],
   "source": [
    "play_time_result_first = play_time(result_first, level_ = 'A')"
   ]
  },
  {
   "cell_type": "code",
   "execution_count": null,
   "metadata": {},
   "outputs": [],
   "source": [
    "Play_time_cal = []\n",
    "for n in range(len(play_time_result_first['Play_time'])):\n",
    "    Play_time_cal.append(timedelta.total_seconds(play_time_result_first['Play_time'][n]))\n",
    "play_time_result_first['Play_time_cal']=Play_time_cal"
   ]
  },
  {
   "cell_type": "markdown",
   "metadata": {},
   "source": [
    "# Mapping"
   ]
  },
  {
   "cell_type": "code",
   "execution_count": null,
   "metadata": {},
   "outputs": [],
   "source": [
    "# 라인 수\n",
    "result_line_cnt_final_ID = result_line.pivot_table(index=('ID','Index_', 'Index_X'), aggfunc='mean', values='GameGrivenIndex')\n",
    "result_line_cnt_final_ID.reset_index(inplace=True)\n",
    "result_line_cnt_final_ID = result_line_cnt_final_ID.rename(columns ={'GameGrivenIndex' : 'Line_Count'})\n",
    "\n",
    "# Fly Time\n",
    "result_first_flytime_map_final_ID = result_first_flytime.pivot_table(index=('ID','Index_', 'Index_X'), aggfunc='mean', values='Flytime_cal')\n",
    "result_first_flytime_map_final_ID.reset_index(inplace=True)\n",
    "\n",
    "# 높이, 너비 통계량\n",
    "height_width_result_first_final_ID = height_width_result_first.pivot_table(index=('ID','Index_', 'Index_X'), aggfunc='mean', values=('Height_Max',\n",
    "       'Height_Mean', 'Height_Std', 'Width_Max', 'Width_Mean', 'Width_Std'))\n",
    "height_width_result_first_final_ID.reset_index(inplace=True)\n",
    "\n",
    "# Play time\n",
    "play_time_result_first_final_ID = play_time_result_first.pivot_table(index=('ID','Index_', 'Index_X'), aggfunc='mean', values='Play_time_cal')\n",
    "play_time_result_first_final_ID.reset_index(inplace=True)\n",
    "\n",
    "# 라인의 길이\n",
    "result_first_linelength_final_ID = result_first_linelength.pivot_table(index=('ID','Index_', 'Index_X'), aggfunc='mean', values='Line_Length')\n",
    "result_first_linelength_final_ID.reset_index(inplace=True)"
   ]
  },
  {
   "cell_type": "code",
   "execution_count": null,
   "metadata": {},
   "outputs": [],
   "source": [
    "Survey_final = pd.merge(result_line_cnt_final_ID, result_first_flytime_map_final_ID)\n",
    "Survey_final = pd.merge(Survey_final, height_width_result_first_final_ID)\n",
    "Survey_final = pd.merge(Survey_final, play_time_result_first_final_ID)\n",
    "Survey_final = pd.merge(Survey_final, result_first_linelength_final_ID)\n",
    "Survey_final['State']='Abnormal'"
   ]
  },
  {
   "cell_type": "code",
   "execution_count": null,
   "metadata": {},
   "outputs": [],
   "source": [
    "Survey_final['Game_num']=Survey_final['Index_'].map(str)+'_'+Survey_final['Index_X'].map(str)"
   ]
  },
  {
   "cell_type": "code",
   "execution_count": null,
   "metadata": {},
   "outputs": [],
   "source": [
    "Survey_final.head(10)"
   ]
  },
  {
   "cell_type": "markdown",
   "metadata": {},
   "source": [
    "# 딥러닝용 input 만들기"
   ]
  },
  {
   "cell_type": "code",
   "execution_count": null,
   "metadata": {},
   "outputs": [],
   "source": [
    "result_first.head()"
   ]
  },
  {
   "cell_type": "code",
   "execution_count": null,
   "metadata": {},
   "outputs": [],
   "source": [
    "result_first = result_first[result_first['Level']=='A']"
   ]
  },
  {
   "cell_type": "code",
   "execution_count": null,
   "metadata": {},
   "outputs": [],
   "source": [
    "user_id_list = pd.read_csv('whole_demo_170.csv')"
   ]
  },
  {
   "cell_type": "code",
   "execution_count": null,
   "metadata": {},
   "outputs": [],
   "source": [
    "user_disease = user_id_list.drop_duplicates()"
   ]
  },
  {
   "cell_type": "code",
   "execution_count": null,
   "metadata": {},
   "outputs": [],
   "source": [
    "result_first_map = pd.merge(result_first, user_disease, left_on = 'ID', right_on = 'User_id',how='left')"
   ]
  },
  {
   "cell_type": "code",
   "execution_count": null,
   "metadata": {},
   "outputs": [],
   "source": [
    "result_first_map_test = result_first_map.copy()"
   ]
  },
  {
   "cell_type": "code",
   "execution_count": null,
   "metadata": {},
   "outputs": [],
   "source": [
    "final=[]\n",
    "for i in tqdm_notebook(range(len(result_first_map_test))):\n",
    "    output = result_first_map_test['CreationDatetime_final'][i].split()[0]\n",
    "    try:\n",
    "        tmp = result_first_map_test['CreationDatetime_final'][i].split()[1]\n",
    "    except:\n",
    "        print(result_first_map_test['CreationDatetime_final'][i], i)\n",
    "    tmp=tmp.replace('-',':')\n",
    "    final.append(output+' '+tmp)\n",
    "result_first_map_test['CreationDatetime_final']=final"
   ]
  },
  {
   "cell_type": "code",
   "execution_count": null,
   "metadata": {},
   "outputs": [],
   "source": [
    "result_first_map_test = result_first_map_test.sort_values(['ID','Game_num', 'CreationDatetime_final'], ascending=[True, True, True])"
   ]
  },
  {
   "cell_type": "code",
   "execution_count": null,
   "metadata": {},
   "outputs": [],
   "source": [
    "time_diff = [1]\n",
    "for _ in tqdm_notebook(range(len(result_first_map_test)-1)):\n",
    "    \n",
    "    if len(result_first_map_test['CreationDatetime_final'][_+1]) == 19:\n",
    "        result_first_map_test['CreationDatetime_final'][_+1] = result_first_map_test['CreationDatetime_final'][_+1]+':000'\n",
    "    if len(result_first_map_test['CreationDatetime_final'][_+1]) != 23:\n",
    "        result_first_map_test['CreationDatetime_final'][_+1] = result_first_map_test['CreationDatetime_final'][_+1]+'0'*(23-len(result_first_map_test['CreationDatetime_final'][_+1]))\n",
    "    #if result_first_map['CreationDatetime_final'][_+1][-1] ==\":\":\n",
    "    #    result_first_map['CreationDatetime_final'][_+1] = result_first_map['CreationDatetime_final'][_+1]+'00'\n",
    "    #if result_first_map['CreationDatetime_final'][_][-1] ==\":\":\n",
    "    #    result_first_map['CreationDatetime_final'][_] = result_first_map['CreationDatetime_final'][_]+'00'\n",
    "    if result_first_map_test['ID'][_] == result_first_map_test['ID'][_+1] and result_first_map_test['Game_num'][_] == result_first_map_test['Game_num'][_+1]:\n",
    "        try:\n",
    "            time_diff.append(datetime.strptime(result_first_map_test['CreationDatetime_final'][_+1], '%Y-%m-%d %H:%M:%S:%f')\\\n",
    "                         - datetime.strptime(result_first_map_test['CreationDatetime_final'][_], '%Y-%m-%d %H:%M:%S:%f'))\n",
    "        except:\n",
    "            time_diff.append(datetime.strptime(result_first_map_test['CreationDatetime_final'][_+1], '%Y-%m-%d %H:%M:%S')\\\n",
    "                         - datetime.strptime(result_first_map_test['CreationDatetime_final'][_], '%Y-%m-%d %H:%M:%S'))\n",
    "    else:\n",
    "        time_diff.append(0)\n",
    "        "
   ]
  },
  {
   "cell_type": "code",
   "execution_count": null,
   "metadata": {},
   "outputs": [],
   "source": [
    "len_diff_ = [0]\n",
    "for _ in range(len(result_first_map_test)-1):\n",
    "    len_diff_.append(np.sqrt((result_first_map_test['PosX'][_+1]-result_first_map_test['PosX'][_])**2+(result_first_map_test['PosY'][_+1]-result_first_map_test['PosY'][_])**2))"
   ]
  },
  {
   "cell_type": "code",
   "execution_count": null,
   "metadata": {},
   "outputs": [],
   "source": [
    "result_first_map = result_first_map_test.copy()"
   ]
  },
  {
   "cell_type": "code",
   "execution_count": null,
   "metadata": {},
   "outputs": [],
   "source": [
    "time_diff__ = pd.to_timedelta(time_diff)"
   ]
  },
  {
   "cell_type": "code",
   "execution_count": null,
   "metadata": {},
   "outputs": [],
   "source": [
    "time_diff_a = time_diff__.total_seconds()"
   ]
  },
  {
   "cell_type": "code",
   "execution_count": null,
   "metadata": {},
   "outputs": [],
   "source": [
    "result_first_map['time_diff'] = time_diff_a\n",
    "result_first_map['len_diff'] = len_diff_"
   ]
  },
  {
   "cell_type": "code",
   "execution_count": null,
   "metadata": {},
   "outputs": [],
   "source": [
    "result_first_map['Fly_time'] = result_first_map['time_diff']"
   ]
  },
  {
   "cell_type": "code",
   "execution_count": null,
   "metadata": {},
   "outputs": [],
   "source": [
    "# 좌표의 play time 계산\n",
    "timea_sum = []\n",
    "temp = 0\n",
    "for _ in tqdm_notebook(range(len(time_diff_a))):\n",
    "    if time_diff_a[_] != 0:\n",
    "        temp += time_diff_a[_]\n",
    "        timea_sum.append(temp)\n",
    "    else:\n",
    "        temp=0\n",
    "        timea_sum.append(temp)"
   ]
  },
  {
   "cell_type": "code",
   "execution_count": null,
   "metadata": {},
   "outputs": [],
   "source": [
    "result_first_map['Play_time'] = timea_sum"
   ]
  },
  {
   "cell_type": "code",
   "execution_count": null,
   "metadata": {},
   "outputs": [],
   "source": [
    "result_first_map['velocity'] = result_first_map['len_diff'] / result_first_map['time_diff']\n",
    "result_first_map = result_first_map.fillna(0)"
   ]
  },
  {
   "cell_type": "code",
   "execution_count": null,
   "metadata": {},
   "outputs": [],
   "source": [
    "import sys"
   ]
  },
  {
   "cell_type": "code",
   "execution_count": null,
   "metadata": {},
   "outputs": [],
   "source": [
    "result_first_map.replace([np.inf, -np.inf], sys.float_info.epsilon, inplace=True)"
   ]
  },
  {
   "cell_type": "code",
   "execution_count": null,
   "metadata": {},
   "outputs": [],
   "source": [
    "vel_diff_a = [0]\n",
    "for _ in tqdm_notebook(range(len(result_first_map)-1)):\n",
    "    vel_diff_a.append(result_first_map['velocity'][_+1] - result_first_map['velocity'][_])"
   ]
  },
  {
   "cell_type": "code",
   "execution_count": null,
   "metadata": {},
   "outputs": [],
   "source": [
    "result_first_map['vel_diff'] = vel_diff_a"
   ]
  },
  {
   "cell_type": "code",
   "execution_count": null,
   "metadata": {},
   "outputs": [],
   "source": [
    "result_first_map['accelerate'] = result_first_map['vel_diff'] / result_first_map['time_diff']\n",
    "result_first_map = result_first_map.fillna(0)"
   ]
  },
  {
   "cell_type": "code",
   "execution_count": null,
   "metadata": {},
   "outputs": [],
   "source": [
    "result_first_map.replace([np.inf, -np.inf], sys.float_info.epsilon, inplace=True)"
   ]
  },
  {
   "cell_type": "code",
   "execution_count": null,
   "metadata": {},
   "outputs": [],
   "source": [
    "len_X_diffa = [0]\n",
    "for _ in tqdm_notebook(range(len(result_first_map)-1)):\n",
    "    len_X_diffa.append(result_first_map['PosX'][_+1]-result_first_map['PosX'][_])\n",
    "len_Y_diffa = [0]\n",
    "for _ in tqdm_notebook(range(len(result_first_map)-1)):\n",
    "    len_Y_diffa.append(result_first_map['PosY'][_+1]-result_first_map['PosY'][_])"
   ]
  },
  {
   "cell_type": "code",
   "execution_count": null,
   "metadata": {},
   "outputs": [],
   "source": [
    "result_first_map['len_X_diff'] = len_X_diffa\n",
    "result_first_map['len_Y_diff'] = len_Y_diffa"
   ]
  },
  {
   "cell_type": "code",
   "execution_count": null,
   "metadata": {},
   "outputs": [],
   "source": [
    "result_first_map['velocity_X'] = result_first_map['len_X_diff'] / result_first_map['time_diff']\n",
    "result_first_map['velocity_Y'] = result_first_map['len_Y_diff'] / result_first_map['time_diff']"
   ]
  },
  {
   "cell_type": "code",
   "execution_count": null,
   "metadata": {},
   "outputs": [],
   "source": [
    "result_first_map = result_first_map.fillna(0)\n",
    "result_first_map.replace([np.inf, -np.inf], sys.float_info.epsilon, inplace=True)"
   ]
  },
  {
   "cell_type": "code",
   "execution_count": null,
   "metadata": {},
   "outputs": [],
   "source": [
    "vel_X_diff = [0]\n",
    "for _ in tqdm_notebook(range(len(result_first_map)-1)):\n",
    "    vel_X_diff.append(result_first_map['velocity_X'][_+1] - result_first_map['velocity_X'][_])\n",
    "vel_Y_diff = [0]\n",
    "for _ in tqdm_notebook(range(len(result_first_map)-1)):\n",
    "    vel_Y_diff.append(result_first_map['velocity_Y'][_+1] - result_first_map['velocity_Y'][_])"
   ]
  },
  {
   "cell_type": "code",
   "execution_count": null,
   "metadata": {},
   "outputs": [],
   "source": [
    "result_first_map['vel_X_diff'] = vel_X_diff\n",
    "result_first_map['vel_Y_diff'] = vel_Y_diff"
   ]
  },
  {
   "cell_type": "code",
   "execution_count": null,
   "metadata": {},
   "outputs": [],
   "source": [
    "result_first_map['accelerate_X'] = result_first_map['vel_X_diff'] / result_first_map['time_diff']\n",
    "result_first_map['accelerate_Y'] = result_first_map['vel_Y_diff'] / result_first_map['time_diff']"
   ]
  },
  {
   "cell_type": "code",
   "execution_count": null,
   "metadata": {},
   "outputs": [],
   "source": [
    "result_first_map = result_first_map.fillna(0)\n",
    "result_first_map.replace([np.inf, -np.inf], sys.float_info.epsilon, inplace=True)"
   ]
  },
  {
   "cell_type": "code",
   "execution_count": null,
   "metadata": {},
   "outputs": [],
   "source": [
    "result_first_map['PosX'] = result_first_map['PosX'] / result_first_map['ScreenWidth']\n",
    "result_first_map['PosY'] = result_first_map['PosY'] / result_first_map['ScreenHeight']\n"
   ]
  },
  {
   "cell_type": "code",
   "execution_count": null,
   "metadata": {},
   "outputs": [],
   "source": [
    "import math, sys"
   ]
  },
  {
   "cell_type": "code",
   "execution_count": null,
   "metadata": {},
   "outputs": [],
   "source": [
    "result_first_map = result_first_map.fillna(0)\n",
    "result_first_map.replace([np.inf, -np.inf], sys.float_info.epsilon, inplace=True)"
   ]
  },
  {
   "cell_type": "code",
   "execution_count": null,
   "metadata": {},
   "outputs": [],
   "source": [
    "result_final = result_first_map[(result_first_map['Game_num']=='1_6')].sort_values('CreationDatetime_final')[['ID','diagnosis', 'PosX','PosY','velocity','velocity_X','velocity_Y',\n",
    "                                                                               'accelerate','accelerate_X','accelerate_Y','Fly_time','Play_time','month_age','sex']]"
   ]
  },
  {
   "cell_type": "code",
   "execution_count": null,
   "metadata": {
    "scrolled": true
   },
   "outputs": [],
   "source": [
    "result_final = result_final[result_final['ID'] !='0098878ec19d8b0114e30b43474b004d']"
   ]
  },
  {
   "cell_type": "code",
   "execution_count": null,
   "metadata": {},
   "outputs": [],
   "source": [
    "result_final = result_final.fillna(0)"
   ]
  },
  {
   "cell_type": "code",
   "execution_count": null,
   "metadata": {},
   "outputs": [],
   "source": [
    "result_final = result_final[result_final['diagnosis'] != 'TD']"
   ]
  },
  {
   "cell_type": "markdown",
   "metadata": {},
   "source": [
    "# main input"
   ]
  },
  {
   "cell_type": "code",
   "execution_count": null,
   "metadata": {},
   "outputs": [],
   "source": [
    "result_final = pd.get_dummies(result_final, columns=['sex'])"
   ]
  },
  {
   "cell_type": "code",
   "execution_count": null,
   "metadata": {},
   "outputs": [],
   "source": [
    "result_final.rename(columns = {'sex_0' : 'Boy', 'sex_1' : 'Girl'}, inplace=True)"
   ]
  },
  {
   "cell_type": "code",
   "execution_count": null,
   "metadata": {},
   "outputs": [],
   "source": [
    "main_result = result_final[['ID', 'PosX', 'PosY', 'velocity', 'velocity_X',\n",
    "       'velocity_Y', 'accelerate', 'accelerate_X', 'accelerate_Y', 'Fly_time',\n",
    "       'Play_time', 'diagnosis']]"
   ]
  },
  {
   "cell_type": "code",
   "execution_count": null,
   "metadata": {},
   "outputs": [],
   "source": [
    "main_result = pd.get_dummies(main_result, columns=['diagnosis'])"
   ]
  },
  {
   "cell_type": "code",
   "execution_count": null,
   "metadata": {},
   "outputs": [],
   "source": [
    "main_result.head()"
   ]
  },
  {
   "cell_type": "code",
   "execution_count": null,
   "metadata": {},
   "outputs": [],
   "source": [
    "main_result['diagnosis_Other'] = main_result['diagnosis_DD'] + main_result['diagnosis_MD']"
   ]
  },
  {
   "cell_type": "code",
   "execution_count": null,
   "metadata": {},
   "outputs": [],
   "source": [
    "main_result = main_result[['ID', 'PosX', 'PosY', 'velocity', 'velocity_X', 'velocity_Y',\n",
    "       'accelerate', 'accelerate_X', 'accelerate_Y', 'Fly_time', 'Play_time',\n",
    "       'diagnosis_ASD', 'diagnosis_BL', 'diagnosis_Other','diagnosis_ID']]"
   ]
  },
  {
   "cell_type": "markdown",
   "metadata": {},
   "source": [
    "# sub input"
   ]
  },
  {
   "cell_type": "code",
   "execution_count": null,
   "metadata": {},
   "outputs": [],
   "source": [
    "result_final.head()"
   ]
  },
  {
   "cell_type": "code",
   "execution_count": null,
   "metadata": {},
   "outputs": [],
   "source": [
    "sub_result = result_final[['ID', 'month_age', 'Boy' ,'Girl']].drop_duplicates()"
   ]
  },
  {
   "cell_type": "code",
   "execution_count": null,
   "metadata": {},
   "outputs": [],
   "source": [
    "Survey_final_map = Survey_final[Survey_final['Game_num']=='1_6']"
   ]
  },
  {
   "cell_type": "code",
   "execution_count": null,
   "metadata": {},
   "outputs": [],
   "source": [
    "Survey_final_map = pd.merge(Survey_final_map, sub_result, how = 'inner' )"
   ]
  },
  {
   "cell_type": "code",
   "execution_count": null,
   "metadata": {},
   "outputs": [],
   "source": [
    "Survey_final_map = Survey_final_map[['ID', 'Line_Count', 'Flytime_cal', 'Height_Max',\n",
    "       'Height_Mean', 'Height_Std', 'Width_Max', 'Width_Mean', 'Width_Std',\n",
    "       'Play_time_cal', 'Line_Length', 'month_age', 'Boy', 'Girl']]"
   ]
  },
  {
   "cell_type": "code",
   "execution_count": null,
   "metadata": {},
   "outputs": [],
   "source": [
    "Survey_final_map.ID.nunique()"
   ]
  },
  {
   "cell_type": "markdown",
   "metadata": {},
   "source": [
    "# CSV 파일로 출력"
   ]
  },
  {
   "cell_type": "code",
   "execution_count": null,
   "metadata": {},
   "outputs": [],
   "source": [
    "main_result.to_csv('main_input_abnormal_1213.csv')"
   ]
  },
  {
   "cell_type": "code",
   "execution_count": null,
   "metadata": {},
   "outputs": [],
   "source": [
    "Survey_final_map.to_csv('sub_input_abnormal_1213.csv')"
   ]
  },
  {
   "cell_type": "code",
   "execution_count": null,
   "metadata": {},
   "outputs": [],
   "source": []
  },
  {
   "cell_type": "code",
   "execution_count": null,
   "metadata": {},
   "outputs": [],
   "source": []
  },
  {
   "cell_type": "code",
   "execution_count": null,
   "metadata": {},
   "outputs": [],
   "source": []
  }
 ],
 "metadata": {
  "kernelspec": {
   "display_name": "Python 3",
   "language": "python",
   "name": "python3"
  },
  "language_info": {
   "codemirror_mode": {
    "name": "ipython",
    "version": 3
   },
   "file_extension": ".py",
   "mimetype": "text/x-python",
   "name": "python",
   "nbconvert_exporter": "python",
   "pygments_lexer": "ipython3",
   "version": "3.6.9"
  }
 },
 "nbformat": 4,
 "nbformat_minor": 2
}
