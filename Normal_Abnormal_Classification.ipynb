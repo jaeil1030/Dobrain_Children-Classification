{
 "cells": [
  {
   "cell_type": "code",
   "execution_count": 31,
   "metadata": {},
   "outputs": [],
   "source": [
    "import numpy as np\n",
    "import matplotlib.pyplot as plt\n",
    "%matplotlib inline\n",
    "from matplotlib import animation\n",
    "import logging\n",
    "import datetime as dt\n",
    "from datetime import datetime, timedelta\n",
    "import pandas as pd\n",
    "import MySQLdb\n",
    "from tqdm import tqdm_notebook"
   ]
  },
  {
   "cell_type": "code",
   "execution_count": 32,
   "metadata": {},
   "outputs": [],
   "source": [
    "import matplotlib.pyplot as plt\n",
    "from sklearn.utils.multiclass import unique_labels\n",
    "from sklearn.metrics import confusion_matrix\n",
    "import collections\n",
    "from tslearn.preprocessing import TimeSeriesResampler\n",
    "from sklearn.model_selection import train_test_split\n",
    "from sklearn.metrics import roc_auc_score"
   ]
  },
  {
   "cell_type": "code",
   "execution_count": 236,
   "metadata": {},
   "outputs": [],
   "source": [
    "from keras.models import Model\n",
    "from keras import layers\n",
    "from keras import Input\n",
    "from keras import regularizers\n",
    "import keras\n",
    "from sklearn.metrics import accuracy_score\n",
    "from sklearn.metrics import f1_score\n",
    "from sklearn.metrics import recall_score\n",
    "from sklearn.metrics import precision_score\n",
    "import sklearn.metrics as metrics"
   ]
  },
  {
   "cell_type": "code",
   "execution_count": 33,
   "metadata": {},
   "outputs": [],
   "source": [
    "def plot_confusion_matrix(y_true, y_pred, classes,\n",
    "                          normalize=False,\n",
    "                          title=None,\n",
    "                          cmap=plt.cm.Blues):\n",
    "    \"\"\"\n",
    "    This function prints and plots the confusion matrix.\n",
    "    Normalization can be applied by setting `normalize=True`.\n",
    "    \"\"\"\n",
    "\n",
    "    cm = confusion_matrix(y_true, y_pred)\n",
    "    # Only use the labels that appear in the data\n",
    "    classes = classes[unique_labels(y_true, y_pred)]\n",
    "    if normalize:\n",
    "        cm = cm.astype('float') / cm.sum(axis=1)[:, np.newaxis]\n",
    "     #   print(\"Normalized confusion matrix\")\n",
    "   # else:\n",
    "    #    print('Confusion matrix, without normalization')\n",
    "\n",
    "    #print(cm)\n",
    "\n",
    "    fig, ax = plt.subplots()\n",
    "    im = ax.imshow(cm, interpolation='nearest', cmap=cmap)\n",
    "    ax.figure.colorbar(im, ax=ax)\n",
    "    # We want to show all ticks...\n",
    "    ax.set(xticks=np.arange(cm.shape[1]),\n",
    "           yticks=np.arange(cm.shape[0]),\n",
    "           # ... and label them with the respective list entries\n",
    "           xticklabels=classes, yticklabels=classes,\n",
    "           #title=title,\n",
    "           ylabel='True label',\n",
    "           xlabel='Predicted label')\n",
    "\n",
    "    # Rotate the tick labels and set their alignment.\n",
    "    plt.setp(ax.get_xticklabels(), rotation=45, ha=\"right\",\n",
    "             rotation_mode=\"anchor\")\n",
    "\n",
    "    # Loop over data dimensions and create text annotations.\n",
    "    fmt = '.2f' if normalize else 'd'\n",
    "    thresh = cm.max() / 2.\n",
    "    for i in range(cm.shape[0]):\n",
    "        for j in range(cm.shape[1]):\n",
    "            ax.text(j, i, format(cm[i, j], fmt),\n",
    "                    ha=\"center\", va=\"center\",\n",
    "                    color=\"white\" if cm[i, j] > thresh else \"black\")\n",
    "    fig.tight_layout()\n",
    "    return ax\n"
   ]
  },
  {
   "cell_type": "code",
   "execution_count": 34,
   "metadata": {},
   "outputs": [],
   "source": [
    "main_result_abnormal = pd.read_csv('main_input_abnormal.csv')\n",
    "sub_result_abnormal = pd.read_csv('sub_input_abnormal.csv')"
   ]
  },
  {
   "cell_type": "code",
   "execution_count": 35,
   "metadata": {},
   "outputs": [],
   "source": [
    "main_result_normal = pd.read_csv('main_input_normal.csv')\n",
    "sub_result_normal = pd.read_csv('sub_input_normal.csv')"
   ]
  },
  {
   "cell_type": "code",
   "execution_count": 36,
   "metadata": {},
   "outputs": [],
   "source": [
    "main_result_abnormal = main_result_abnormal[['ID', 'PosX', 'PosY', 'velocity', 'velocity_X',\n",
    "       'velocity_Y', 'accelerate', 'accelerate_X', 'accelerate_Y', 'Fly_time',\n",
    "       'Play_time']]\n",
    "main_result_abnormal['State'] = 'Abnormal'"
   ]
  },
  {
   "cell_type": "code",
   "execution_count": 37,
   "metadata": {},
   "outputs": [],
   "source": [
    "sub_result_abnormal = sub_result_abnormal[['ID', 'Line_Count', 'Flytime_cal', 'Height_Max',\n",
    "       'Height_Mean', 'Height_Std', 'Width_Max', 'Width_Mean', 'Width_Std',\n",
    "       'Play_time_cal', 'Line_Length', 'month_age', 'Boy', 'Girl']]"
   ]
  },
  {
   "cell_type": "code",
   "execution_count": 38,
   "metadata": {},
   "outputs": [],
   "source": [
    "main_result_normal = main_result_normal[['ID', 'PosX', 'PosY', 'velocity', 'velocity_X',\n",
    "       'velocity_Y', 'accelerate', 'accelerate_X', 'accelerate_Y', 'Fly_time',\n",
    "       'Play_time', 'State']]"
   ]
  },
  {
   "cell_type": "code",
   "execution_count": 39,
   "metadata": {},
   "outputs": [],
   "source": [
    "sub_result_normal = sub_result_normal[['ID', 'Line_Count', 'Flytime_cal', 'Height_Max',\n",
    "       'Height_Mean', 'Height_Std', 'Width_Max', 'Width_Mean', 'Width_Std',\n",
    "       'Play_time_cal', 'Line_Length', 'month_age', 'Boy', 'Girl']]"
   ]
  },
  {
   "cell_type": "code",
   "execution_count": 43,
   "metadata": {},
   "outputs": [],
   "source": [
    "main_result = pd.concat([main_result_normal, main_result_abnormal])"
   ]
  },
  {
   "cell_type": "code",
   "execution_count": 44,
   "metadata": {},
   "outputs": [],
   "source": [
    "sub_result = pd.concat([sub_result_normal, sub_result_abnormal])"
   ]
  },
  {
   "cell_type": "code",
   "execution_count": 46,
   "metadata": {},
   "outputs": [],
   "source": [
    "mapPositionDataByID = collections.OrderedDict()\n",
    "mapStateByID = collections.OrderedDict()"
   ]
  },
  {
   "cell_type": "code",
   "execution_count": 47,
   "metadata": {},
   "outputs": [],
   "source": [
    "nor_list = ['velocity','velocity_X','velocity_Y','accelerate','accelerate_X','accelerate_Y', 'Fly_time','Play_time']\n",
    "for _ in nor_list:\n",
    "    x = main_result[_]\n",
    "    normalized_df=(x-x.mean())/x.std()\n",
    "    main_result[_] =  list(normalized_df)"
   ]
  },
  {
   "cell_type": "code",
   "execution_count": 48,
   "metadata": {},
   "outputs": [],
   "source": [
    "nor_list2 = [ 'Line_Count', 'Flytime_cal', 'Height_Max', 'Height_Mean',\n",
    "       'Height_Std', 'Width_Max', 'Width_Mean', 'Width_Std', 'Play_time_cal',\n",
    "       'Line_Length', 'month_age']\n",
    "for _ in nor_list2:\n",
    "    x = sub_result[_]\n",
    "    normalized_df=(x-x.mean())/x.std()\n",
    "    sub_result[_] =  list(normalized_df)"
   ]
  },
  {
   "cell_type": "code",
   "execution_count": 49,
   "metadata": {},
   "outputs": [],
   "source": [
    "main_result = pd.get_dummies(main_result, columns=['State'])"
   ]
  },
  {
   "cell_type": "code",
   "execution_count": 50,
   "metadata": {},
   "outputs": [],
   "source": [
    "main_result.to_csv('딥러닝_메인.csv')\n",
    "sub_result.to_csv('딥러닝_서브.csv')"
   ]
  },
  {
   "cell_type": "code",
   "execution_count": 51,
   "metadata": {},
   "outputs": [],
   "source": [
    "main_result = pd.read_csv('딥러닝_메인.csv')\n",
    "sub_result = pd.read_csv('딥러닝_서브.csv')"
   ]
  },
  {
   "cell_type": "code",
   "execution_count": 52,
   "metadata": {},
   "outputs": [],
   "source": [
    "main_result = main_result.iloc[:,1:]\n",
    "sub_result = sub_result.iloc[:,1:]"
   ]
  },
  {
   "cell_type": "code",
   "execution_count": 55,
   "metadata": {},
   "outputs": [],
   "source": [
    "data_dic=dict(tuple(main_result.groupby('ID')))\n",
    "for k in data_dic.keys():\n",
    "    mapPositionDataByID[k]=data_dic[k].iloc[:,1:11].values\n",
    "    mapStateByID[k]=data_dic[k].iloc[:,-2:].values"
   ]
  },
  {
   "cell_type": "code",
   "execution_count": 327,
   "metadata": {},
   "outputs": [],
   "source": [
    "x_train, y_train, x_test, y_test, x_train_sub, x_test_sub  = [], [], [] ,[],[],[]\n",
    "key_train, key_test = train_test_split(list(sub_result['ID']), test_size=0.25, random_state=3)#)#\n",
    "                                       #stratify = ID_State['State'])\n",
    "\n",
    "for key in key_train:\n",
    "    x_train.append(mapPositionDataByID[key])\n",
    "    y_train.append(mapStateByID[key][0])\n",
    "    x_train_sub.append(np.array(sub_result.set_index('ID').loc[key,['Line_Count', 'Flytime_cal', 'Height_Max', 'Height_Mean',\n",
    "       'Height_Std', 'Width_Max', 'Width_Mean', 'Width_Std', 'Play_time_cal',\n",
    "       'Line_Length', 'month_age', 'Boy', 'Girl']].values))\n",
    "for key in key_test:\n",
    "    x_test.append(mapPositionDataByID[key])\n",
    "    y_test.append(mapStateByID[key][0])\n",
    "    x_test_sub.append(np.array(sub_result.set_index('ID').loc[key,['Line_Count', 'Flytime_cal', 'Height_Max', 'Height_Mean',\n",
    "       'Height_Std', 'Width_Max', 'Width_Mean', 'Width_Std', 'Play_time_cal',\n",
    "       'Line_Length', 'month_age', 'Boy', 'Girl']].values))"
   ]
  },
  {
   "cell_type": "code",
   "execution_count": 328,
   "metadata": {},
   "outputs": [],
   "source": [
    "x_train_input = TimeSeriesResampler(sz=100).fit_transform(x_train)\n",
    "x_test_input = TimeSeriesResampler(sz=100).fit_transform(x_test)\n",
    "#x_train = x_train.reshape(27,-1,10)\n",
    "#x_train = np.array(x_train, order={'F'})\n",
    "y_train_input = np.array(y_train)\n",
    "#x_test = np.array(x_test)\n",
    "y_test_input = np.array(y_test)\n",
    "\n",
    "x_train_sub_input = np.array(x_train_sub)\n",
    "x_test_sub_input = np.array(x_test_sub)"
   ]
  },
  {
   "cell_type": "code",
   "execution_count": 329,
   "metadata": {},
   "outputs": [
    {
     "name": "stdout",
     "output_type": "stream",
     "text": [
      "x_train shape : (170, 100, 10)\n",
      "y_train shape : (170, 2)\n",
      "x_train_sub shape : (170, 13)\n",
      "y_train_sub shape : (57, 13)\n",
      "x_test shape : (57, 100, 10)\n",
      "y_test shape : (57, 2)\n"
     ]
    }
   ],
   "source": [
    "print('x_train shape :', x_train_input.shape)\n",
    "print('y_train shape :', y_train_input.shape)\n",
    "\n",
    "print('x_train_sub shape :', x_train_sub_input.shape)\n",
    "print('y_train_sub shape :', x_test_sub_input.shape)\n",
    "\n",
    "print('x_test shape :', x_test_input.shape)\n",
    "print('y_test shape :', y_test_input.shape)"
   ]
  },
  {
   "cell_type": "code",
   "execution_count": 330,
   "metadata": {},
   "outputs": [],
   "source": [
    "sub_input = Input(shape=(13,), dtype = 'float32', name='sub')\n",
    "embedded_sub = layers.Reshape((-1,1))(sub_input)\n",
    "encoded_sub = layers.Conv1D(8,kernel_size=3,strides=1,padding='same', activation='relu',\n",
    "                                              activity_regularizer=regularizers.l2(0.001))(embedded_sub)\n",
    "encoded_sub = layers.Conv1D(16,kernel_size=3, strides=1, padding='same', activation='relu', \n",
    "                         activity_regularizer=regularizers.l2(0.001))(encoded_sub)\n",
    "encoded_sub = layers.Conv1D(32,kernel_size=3, strides=1, padding='same', activation='relu', \n",
    "                         activity_regularizer=regularizers.l2(0.001))(encoded_sub)\n",
    "pooled_sub = keras.layers.GlobalAveragePooling1D()(encoded_sub)"
   ]
  },
  {
   "cell_type": "code",
   "execution_count": 331,
   "metadata": {},
   "outputs": [],
   "source": [
    "main_input = Input(shape=(None,10), dtype = 'float32', name='main')\n",
    "embedded_main = layers.Reshape((-1,1))(main_input)\n",
    "\n",
    "encoded_main = layers.Conv1D(8, kernel_size=3, strides=1, padding='same', activation='relu', \n",
    "                         activity_regularizer=regularizers.l2(0.001))(embedded_main)\n",
    "encoded_main = layers.Conv1D(16,kernel_size=3, strides=1, padding='same', activation='relu', \n",
    "                         activity_regularizer=regularizers.l2(0.001))(encoded_main)\n",
    "encoded_main = layers.Conv1D(32,kernel_size=3, strides=1, padding='same', activation='relu', \n",
    "                         activity_regularizer=regularizers.l2(0.001))(encoded_main)\n",
    "\n",
    "pooled_main = keras.layers.GlobalAveragePooling1D()(encoded_main)"
   ]
  },
  {
   "cell_type": "code",
   "execution_count": 332,
   "metadata": {},
   "outputs": [],
   "source": [
    "concatenated = layers.concatenate([pooled_main, pooled_sub],axis=-1)"
   ]
  },
  {
   "cell_type": "code",
   "execution_count": 333,
   "metadata": {},
   "outputs": [],
   "source": [
    "answer = layers.Dense(2, activation='softmax')(concatenated)"
   ]
  },
  {
   "cell_type": "code",
   "execution_count": 334,
   "metadata": {},
   "outputs": [],
   "source": [
    "model = Model([ main_input,sub_input], answer)"
   ]
  },
  {
   "cell_type": "code",
   "execution_count": 335,
   "metadata": {},
   "outputs": [],
   "source": [
    "optimizer = keras.optimizers.Adam()#learning_rate=0.001, beta_1=0.9, beta_2=0.999, amsgrad=False)\n",
    "model.compile(loss='categorical_crossentropy', optimizer=optimizer, metrics=['accuracy'])"
   ]
  },
  {
   "cell_type": "code",
   "execution_count": 336,
   "metadata": {},
   "outputs": [
    {
     "name": "stdout",
     "output_type": "stream",
     "text": [
      "Model: \"model_10\"\n",
      "__________________________________________________________________________________________________\n",
      "Layer (type)                    Output Shape         Param #     Connected to                     \n",
      "==================================================================================================\n",
      "main (InputLayer)               (None, None, 10)     0                                            \n",
      "__________________________________________________________________________________________________\n",
      "sub (InputLayer)                (None, 13)           0                                            \n",
      "__________________________________________________________________________________________________\n",
      "reshape_20 (Reshape)            (None, None, 1)      0           main[0][0]                       \n",
      "__________________________________________________________________________________________________\n",
      "reshape_19 (Reshape)            (None, 13, 1)        0           sub[0][0]                        \n",
      "__________________________________________________________________________________________________\n",
      "conv1d_58 (Conv1D)              (None, None, 8)      32          reshape_20[0][0]                 \n",
      "__________________________________________________________________________________________________\n",
      "conv1d_55 (Conv1D)              (None, 13, 8)        32          reshape_19[0][0]                 \n",
      "__________________________________________________________________________________________________\n",
      "conv1d_59 (Conv1D)              (None, None, 16)     400         conv1d_58[0][0]                  \n",
      "__________________________________________________________________________________________________\n",
      "conv1d_56 (Conv1D)              (None, 13, 16)       400         conv1d_55[0][0]                  \n",
      "__________________________________________________________________________________________________\n",
      "conv1d_60 (Conv1D)              (None, None, 32)     1568        conv1d_59[0][0]                  \n",
      "__________________________________________________________________________________________________\n",
      "conv1d_57 (Conv1D)              (None, 13, 32)       1568        conv1d_56[0][0]                  \n",
      "__________________________________________________________________________________________________\n",
      "global_average_pooling1d_20 (Gl (None, 32)           0           conv1d_60[0][0]                  \n",
      "__________________________________________________________________________________________________\n",
      "global_average_pooling1d_19 (Gl (None, 32)           0           conv1d_57[0][0]                  \n",
      "__________________________________________________________________________________________________\n",
      "concatenate_10 (Concatenate)    (None, 64)           0           global_average_pooling1d_20[0][0]\n",
      "                                                                 global_average_pooling1d_19[0][0]\n",
      "__________________________________________________________________________________________________\n",
      "dense_10 (Dense)                (None, 2)            130         concatenate_10[0][0]             \n",
      "==================================================================================================\n",
      "Total params: 4,130\n",
      "Trainable params: 4,130\n",
      "Non-trainable params: 0\n",
      "__________________________________________________________________________________________________\n"
     ]
    }
   ],
   "source": [
    "model.summary()"
   ]
  },
  {
   "cell_type": "code",
   "execution_count": null,
   "metadata": {
    "scrolled": true
   },
   "outputs": [],
   "source": [
    "history = model.fit([x_train_input,x_train_sub_input], y_train_input, epochs=350, batch_size=10, validation_split=0.2)"
   ]
  },
  {
   "cell_type": "code",
   "execution_count": 338,
   "metadata": {},
   "outputs": [],
   "source": [
    "predictions = model.predict([x_test_input, x_test_sub_input])"
   ]
  },
  {
   "cell_type": "code",
   "execution_count": 339,
   "metadata": {},
   "outputs": [],
   "source": [
    "y_pred = (predictions > 0.5) #이 PRediction의 값을 제시"
   ]
  },
  {
   "cell_type": "code",
   "execution_count": 340,
   "metadata": {},
   "outputs": [],
   "source": [
    "class_names = np.array([ 'Normal', 'Abnoraml'])"
   ]
  },
  {
   "cell_type": "code",
   "execution_count": 341,
   "metadata": {},
   "outputs": [
    {
     "name": "stdout",
     "output_type": "stream",
     "text": [
      "Accuracy :  0.88\n",
      "F1 Score :  0.92\n",
      "Precision :  0.91\n",
      "Recall :  0.93\n"
     ]
    }
   ],
   "source": [
    "print('Accuracy : ', round(accuracy_score(y_test_input.argmax(axis=1), y_pred.argmax(axis=1)),2))\n",
    "print('F1 Score : ', round(f1_score(y_test_input.argmax(axis=1), y_pred.argmax(axis=1)),2))\n",
    "print('Precision : ', round(precision_score(y_test_input.argmax(axis=1), y_pred.argmax(axis=1)),2))\n",
    "print('Recall : ', round(recall_score(y_test_input.argmax(axis=1), y_pred.argmax(axis=1)),2))"
   ]
  },
  {
   "cell_type": "code",
   "execution_count": 342,
   "metadata": {
    "scrolled": true
   },
   "outputs": [
    {
     "data": {
      "image/png": "[encoded data removed]",
      "text/plain": [
       "<Figure size 432x288 with 2 Axes>"
      ]
     },
     "metadata": {
      "needs_background": "light"
     },
     "output_type": "display_data"
    }
   ],
   "source": [
    "plot_confusion_matrix(y_test_input.argmax(axis=1), y_pred.argmax(axis=1), classes=class_names,\n",
    "                      title='Confusion matrix, without normalization')\n",
    "plt.show()"
   ]
  },
  {
   "cell_type": "code",
   "execution_count": 343,
   "metadata": {},
   "outputs": [
    {
     "name": "stdout",
     "output_type": "stream",
     "text": [
      "AUC :  0.81\n"
     ]
    }
   ],
   "source": [
    "print('AUC : ', round(roc_auc_score(y_test_input.argmax(axis=1), y_pred.argmax(axis=1)),2))"
   ]
  },
  {
   "cell_type": "code",
   "execution_count": 344,
   "metadata": {},
   "outputs": [
    {
     "data": {
      "image/png": "[encoded data removed]",
      "text/plain": [
       "<Figure size 432x288 with 1 Axes>"
      ]
     },
     "metadata": {
      "needs_background": "light"
     },
     "output_type": "display_data"
    }
   ],
   "source": [
    "fpr, tpr, threshold = metrics.roc_curve(y_test_input.argmax(axis=1), y_pred.argmax(axis=1))\n",
    "roc_auc = metrics.auc(fpr, tpr)\n",
    "\n",
    "# method I: plt\n",
    "import matplotlib.pyplot as plt\n",
    "plt.title('Receiver Operating Characteristic')\n",
    "plt.plot(fpr, tpr, 'b', label = 'AUC = %0.2f' % roc_auc)\n",
    "plt.legend(loc = 'lower right')\n",
    "plt.plot([0, 1], [0, 1],'r--')\n",
    "plt.xlim([0, 1])\n",
    "plt.ylim([0, 1])\n",
    "plt.ylabel('True Positive Rate')\n",
    "plt.xlabel('False Positive Rate')\n",
    "plt.show()"
   ]
  },
  {
   "cell_type": "code",
   "execution_count": 272,
   "metadata": {
    "scrolled": true
   },
   "outputs": [
    {
     "data": {
      "text/plain": [
       "<matplotlib.legend.Legend at 0x7faa7c78bba8>"
      ]
     },
     "execution_count": 272,
     "metadata": {},
     "output_type": "execute_result"
    },
    {
     "data": {
      "image/png": "[encoded data removed]",
      "text/plain": [
       "<Figure size 432x288 with 1 Axes>"
      ]
     },
     "metadata": {
      "needs_background": "light"
     },
     "output_type": "display_data"
    }
   ],
   "source": [
    "# plot loss during training\n",
    "\n",
    "plt.title('Loss')\n",
    "plt.plot(history.history['loss'], label='train')\n",
    "plt.plot(history.history['val_loss'], label='val')\n",
    "plt.legend()\n",
    "# plot accuracy during training\n"
   ]
  },
  {
   "cell_type": "code",
   "execution_count": 273,
   "metadata": {},
   "outputs": [
    {
     "data": {
      "image/png": "[encoded data removed]",
      "text/plain": [
       "<Figure size 432x288 with 1 Axes>"
      ]
     },
     "metadata": {
      "needs_background": "light"
     },
     "output_type": "display_data"
    }
   ],
   "source": [
    "plt.title('Accuracy')\n",
    "plt.plot(history.history['accuracy'], label='train')\n",
    "plt.plot(history.history['val_accuracy'], label='val')\n",
    "plt.legend()\n",
    "plt.show()"
   ]
  },
  {
   "cell_type": "markdown",
   "metadata": {},
   "source": [
    "# 특정 유저의 확률"
   ]
  },
  {
   "cell_type": "code",
   "execution_count": 228,
   "metadata": {},
   "outputs": [],
   "source": [
    "key_user_id = list(mapPositionDataByID.keys())[5]"
   ]
  },
  {
   "cell_type": "code",
   "execution_count": 230,
   "metadata": {},
   "outputs": [],
   "source": [
    "x_test_one, y_test_one, x_test_sub_one=[],[],[]"
   ]
  },
  {
   "cell_type": "code",
   "execution_count": 231,
   "metadata": {},
   "outputs": [],
   "source": [
    "x_test_one.append(mapPositionDataByID[key_user_id])\n",
    "y_test_one.append(mapStateByID[key_user_id][0])\n",
    "x_test_sub_one.append(np.array(sub_result.set_index('ID').loc[key_user_id,['Line_Count', 'Flytime_cal', 'Height_Max', 'Height_Mean',\n",
    "   'Height_Std', 'Width_Max', 'Width_Mean', 'Width_Std', 'Play_time_cal',\n",
    "   'Line_Length', 'month_age', 'Boy', 'Girl']].values))"
   ]
  },
  {
   "cell_type": "code",
   "execution_count": 232,
   "metadata": {},
   "outputs": [],
   "source": [
    "x_test_input = TimeSeriesResampler(sz=100).fit_transform(x_test_one)\n",
    "y_test_input = np.array(y_test_one)\n",
    "x_test_sub_input = np.array(x_test_sub_one)"
   ]
  },
  {
   "cell_type": "code",
   "execution_count": 233,
   "metadata": {},
   "outputs": [],
   "source": [
    "predictions = model.predict([x_test_input, x_test_sub_input])"
   ]
  },
  {
   "cell_type": "code",
   "execution_count": 234,
   "metadata": {},
   "outputs": [
    {
     "name": "stdout",
     "output_type": "stream",
     "text": [
      "발달 장애아동일 확률 :  98.89%\n"
     ]
    }
   ],
   "source": [
    "print('발달 장애아동일 확률 : ', str(round(predictions[0][0]*100,2))+'%') # 발달 장애일 확률"
   ]
  }
 ],
 "metadata": {
  "kernelspec": {
   "display_name": "Python 3",
   "language": "python",
   "name": "python3"
  },
  "language_info": {
   "codemirror_mode": {
    "name": "ipython",
    "version": 3
   },
   "file_extension": ".py",
   "mimetype": "text/x-python",
   "name": "python",
   "nbconvert_exporter": "python",
   "pygments_lexer": "ipython3",
   "version": "3.6.9"
  }
 },
 "nbformat": 4,
 "nbformat_minor": 2
}
